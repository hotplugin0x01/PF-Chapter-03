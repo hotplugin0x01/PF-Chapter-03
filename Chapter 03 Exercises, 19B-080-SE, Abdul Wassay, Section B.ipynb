{
 "cells": [
  {
   "cell_type": "markdown",
   "metadata": {},
   "source": [
    "# Abdul Wassay, 19B-080-SE\n",
    "# Section B"
   ]
  },
  {
   "cell_type": "markdown",
   "metadata": {},
   "source": [
    "# Chapter 03"
   ]
  },
  {
   "cell_type": "markdown",
   "metadata": {},
   "source": [
    "# Practice Problems (Book):"
   ]
  },
  {
   "cell_type": "markdown",
   "metadata": {},
   "source": [
    "# Q.3.1"
   ]
  },
  {
   "cell_type": "code",
   "execution_count": 1,
   "metadata": {},
   "outputs": [
    {
     "name": "stdout",
     "output_type": "stream",
     "text": [
      "Enter the temperature in degrees Fahrenheit: 98.6\n",
      "The temperature in degrees Celsius is 37.0 C\n"
     ]
    }
   ],
   "source": [
    "f=eval(input(\"Enter the temperature in Fahrenheit: \")) \n",
    "c=(f - 32) * 5 / 9\n",
    "print(\"The temperature in Celsius is:\",c,\"C\")"
   ]
  },
  {
   "cell_type": "markdown",
   "metadata": {},
   "source": [
    "# Q.3.2"
   ]
  },
  {
   "cell_type": "code",
   "execution_count": null,
   "metadata": {},
   "outputs": [],
   "source": [
    "#3.2(a)\n",
    "if age>62:\n",
    "    print(\"You can get your pension benefits!\") \n",
    "#3.2(b)\n",
    "if name in ['Musial','Aaron','Williams','Gehrig','Ruth']:\n",
    "    print(\"One of the top 5 baseball players, ever!\")\n",
    "#3.2(c)\n",
    "if hits>10 and shield==0:\n",
    "    print(\"You are dead ...\")\n",
    "#3.2(d)    \n",
    "if north or south or east or west:\n",
    "    print(\"I can escape.\") "
   ]
  },
  {
   "cell_type": "markdown",
   "metadata": {},
   "source": [
    "# Q.3.3"
   ]
  },
  {
   "cell_type": "code",
   "execution_count": null,
   "metadata": {},
   "outputs": [],
   "source": [
    "#3.2(a)\n",
    "if year%4==0:\n",
    "    print(\"Could  be a leap year.\")\n",
    "else:\n",
    "    print(\"Definitely not a leap year.\")\n",
    "#3.2(b)\n",
    "if list==lottery:\n",
    "    print(\"You Won!\")\n",
    "else:\n",
    "    print(\"Better luck nnext time...\")"
   ]
  },
  {
   "cell_type": "markdown",
   "metadata": {},
   "source": [
    "# Q.3.4"
   ]
  },
  {
   "cell_type": "code",
   "execution_count": 10,
   "metadata": {},
   "outputs": [
    {
     "name": "stdout",
     "output_type": "stream",
     "text": [
      "Enter your login id: Wassay\n",
      "You are in!\n",
      "Done\n"
     ]
    }
   ],
   "source": [
    "a=('Joe','Sue','Hani','Sophie','Wassay')\n",
    "x=input(\"Enter your login id: \")\n",
    "if x in a:\n",
    "    print(\"You are in!\")\n",
    "else:\n",
    "    print(\"User unknown\")\n",
    "print(\"Done\")"
   ]
  },
  {
   "cell_type": "markdown",
   "metadata": {},
   "source": [
    "# Q.3.5"
   ]
  },
  {
   "cell_type": "code",
   "execution_count": 2,
   "metadata": {
    "scrolled": true
   },
   "outputs": [
    {
     "name": "stdout",
     "output_type": "stream",
     "text": [
      "Please enter a word: Sky\n",
      "Please enter a word: Stop\n",
      "Please enter a word: Play\n",
      "Please enter a word: Good\n",
      "Please enter a word: Bye\n",
      "Sky\n",
      "Stop\n",
      "Play\n",
      "Good\n",
      "Bye\n"
     ]
    }
   ],
   "source": [
    "words_list=[]\n",
    "for i in range(0, 5):\n",
    "    a=input('Please enter a word: ') \n",
    "    words_list.append(a)\n",
    "for word in words_list:   \n",
    "    print(word)"
   ]
  },
  {
   "cell_type": "markdown",
   "metadata": {},
   "source": [
    "# Q.3.6"
   ]
  },
  {
   "cell_type": "code",
   "execution_count": 7,
   "metadata": {},
   "outputs": [
    {
     "name": "stdout",
     "output_type": "stream",
     "text": [
      "0\n",
      "1\n",
      "2\n",
      "3\n",
      "4\n",
      "5\n",
      "6\n",
      "7\n",
      "8\n",
      "9\n",
      "0\n",
      "1\n"
     ]
    }
   ],
   "source": [
    "#3.6(a)\n",
    "for x in range(0,10):\n",
    "    print(x)\n",
    "#3.6(b)\n",
    "for y in range(0,2):\n",
    "    print(y)"
   ]
  },
  {
   "cell_type": "markdown",
   "metadata": {},
   "source": [
    "# Q.3.7"
   ]
  },
  {
   "cell_type": "code",
   "execution_count": 12,
   "metadata": {},
   "outputs": [
    {
     "name": "stdout",
     "output_type": "stream",
     "text": [
      "3\n",
      "4\n",
      "5\n",
      "6\n",
      "7\n",
      "8\n",
      "9\n",
      "10\n",
      "11\n",
      "12\n"
     ]
    }
   ],
   "source": [
    "#3.7(a)\n",
    "for a in range(3,13):\n",
    "    print(a)"
   ]
  },
  {
   "cell_type": "code",
   "execution_count": 14,
   "metadata": {},
   "outputs": [
    {
     "name": "stdout",
     "output_type": "stream",
     "text": [
      "0\n",
      "2\n",
      "4\n",
      "6\n",
      "8\n"
     ]
    }
   ],
   "source": [
    "#3.7(b)\n",
    "for b in range(0,9,2):\n",
    "    print(b)"
   ]
  },
  {
   "cell_type": "code",
   "execution_count": 15,
   "metadata": {},
   "outputs": [
    {
     "name": "stdout",
     "output_type": "stream",
     "text": [
      "0\n",
      "3\n",
      "6\n",
      "9\n",
      "12\n",
      "15\n",
      "18\n",
      "21\n"
     ]
    }
   ],
   "source": [
    "#3.7(c)\n",
    "for c in range(0,24,3):\n",
    "    print(c)"
   ]
  },
  {
   "cell_type": "code",
   "execution_count": 16,
   "metadata": {},
   "outputs": [
    {
     "name": "stdout",
     "output_type": "stream",
     "text": [
      "0\n",
      "5\n",
      "10\n"
     ]
    }
   ],
   "source": [
    "#3.7(d)\n",
    "for d in range(0,12,5):\n",
    "    print(d)"
   ]
  },
  {
   "cell_type": "markdown",
   "metadata": {},
   "source": [
    "# Q.3.8"
   ]
  },
  {
   "cell_type": "code",
   "execution_count": 5,
   "metadata": {},
   "outputs": [
    {
     "data": {
      "text/plain": [
       "6.283185307179586"
      ]
     },
     "execution_count": 5,
     "metadata": {},
     "output_type": "execute_result"
    }
   ],
   "source": [
    "from math import pi\n",
    "def perimeter(r):\n",
    "    c=2*pi*r\n",
    "    return c\n",
    "    \n",
    "perimeter(1)"
   ]
  },
  {
   "cell_type": "markdown",
   "metadata": {},
   "source": [
    "# Q.3.9"
   ]
  },
  {
   "cell_type": "code",
   "execution_count": 7,
   "metadata": {},
   "outputs": [
    {
     "data": {
      "text/plain": [
       "2.75"
      ]
     },
     "execution_count": 7,
     "metadata": {},
     "output_type": "execute_result"
    }
   ],
   "source": [
    "def average(a,b):\n",
    "    av=(a+b)/2\n",
    "    return av\n",
    "\n",
    "average(2,3.5)"
   ]
  },
  {
   "cell_type": "markdown",
   "metadata": {},
   "source": [
    "# Q.3.10"
   ]
  },
  {
   "cell_type": "code",
   "execution_count": 10,
   "metadata": {},
   "outputs": [
    {
     "data": {
      "text/plain": [
       "True"
      ]
     },
     "execution_count": 10,
     "metadata": {},
     "output_type": "execute_result"
    }
   ],
   "source": [
    "def noVowel(s):\n",
    "    for char in s:\n",
    "        if char in 'aeiouAEIOU':\n",
    "            return False\n",
    "        else:\n",
    "            return True\n",
    "\n",
    "noVowel('cwm')"
   ]
  },
  {
   "cell_type": "markdown",
   "metadata": {},
   "source": [
    "# Q.3.11"
   ]
  },
  {
   "cell_type": "code",
   "execution_count": 20,
   "metadata": {},
   "outputs": [
    {
     "data": {
      "text/plain": [
       "True"
      ]
     },
     "execution_count": 20,
     "metadata": {},
     "output_type": "execute_result"
    }
   ],
   "source": [
    "def alleven(x):\n",
    "    for i in x:\n",
    "        if i%2!=0:\n",
    "            return False\n",
    "        else:\n",
    "            return True\n",
    "\n",
    "alleven([8,0,-1,4,-6,10])"
   ]
  },
  {
   "cell_type": "markdown",
   "metadata": {},
   "source": [
    "# Q.3.12"
   ]
  },
  {
   "cell_type": "code",
   "execution_count": 16,
   "metadata": {},
   "outputs": [
    {
     "name": "stdout",
     "output_type": "stream",
     "text": [
      "-1\n",
      "-3\n",
      "-9\n"
     ]
    }
   ],
   "source": [
    "def negative(x):\n",
    "    for i in x:\n",
    "        if i < 0:\n",
    "            print(i)\n",
    "            \n",
    "negative([4,0,-1,-3,6,-9])"
   ]
  },
  {
   "cell_type": "markdown",
   "metadata": {},
   "source": [
    "# Q.3.13"
   ]
  },
  {
   "cell_type": "code",
   "execution_count": 18,
   "metadata": {},
   "outputs": [
    {
     "name": "stdout",
     "output_type": "stream",
     "text": [
      "Help on function average in module __main__:\n",
      "\n",
      "average(a, b)\n",
      "    returns the aveage of two numbers\n",
      "\n"
     ]
    }
   ],
   "source": [
    "#(a)\n",
    "def average(a,b):\n",
    "    'returns the aveage of two numbers'\n",
    "    av=(a+b)/2\n",
    "    return av\n",
    "\n",
    "help(average)"
   ]
  },
  {
   "cell_type": "code",
   "execution_count": 19,
   "metadata": {},
   "outputs": [
    {
     "name": "stdout",
     "output_type": "stream",
     "text": [
      "Help on function negative in module __main__:\n",
      "\n",
      "negative(x)\n",
      "    returns only negative numbers in given list\n",
      "\n"
     ]
    }
   ],
   "source": [
    "#(b)\n",
    "def negative(x):\n",
    "    'returns only negative numbers in given list'\n",
    "    for i in x:\n",
    "        if i < 0:\n",
    "            print(i)\n",
    "            \n",
    "help(negative)"
   ]
  },
  {
   "cell_type": "markdown",
   "metadata": {},
   "source": [
    "# Q.3.14"
   ]
  },
  {
   "cell_type": "code",
   "execution_count": 30,
   "metadata": {},
   "outputs": [],
   "source": [
    "# This Question icludes diagram."
   ]
  },
  {
   "cell_type": "markdown",
   "metadata": {},
   "source": [
    "# Q.3.15"
   ]
  },
  {
   "cell_type": "code",
   "execution_count": 22,
   "metadata": {},
   "outputs": [
    {
     "name": "stdout",
     "output_type": "stream",
     "text": [
      "['Sarah', 'Eleanor', 'Clare', 'Ava']\n"
     ]
    }
   ],
   "source": [
    "team=['Ava','Eleanor','Clare','Sarah']\n",
    "a=team[0]\n",
    "team[0]=team[-1]\n",
    "team[-1]=a\n",
    "print(team)"
   ]
  },
  {
   "cell_type": "markdown",
   "metadata": {},
   "source": [
    "# Q.3.16"
   ]
  },
  {
   "cell_type": "code",
   "execution_count": 24,
   "metadata": {},
   "outputs": [
    {
     "data": {
      "text/plain": [
       "['Sarah', 'Eleanor', 'Clare', 'Ava']"
      ]
     },
     "execution_count": 24,
     "metadata": {},
     "output_type": "execute_result"
    }
   ],
   "source": [
    "def swap(x):\n",
    "    x[0],x[-1]=x[-1],x[0]\n",
    "    return x\n",
    "    \n",
    "swap(team)"
   ]
  },
  {
   "cell_type": "markdown",
   "metadata": {},
   "source": [
    "# Exercises (Book):"
   ]
  },
  {
   "cell_type": "markdown",
   "metadata": {},
   "source": [
    "# Q.3.17"
   ]
  },
  {
   "cell_type": "code",
   "execution_count": 25,
   "metadata": {},
   "outputs": [
    {
     "name": "stdout",
     "output_type": "stream",
     "text": [
      "7\n"
     ]
    }
   ],
   "source": [
    "#3.17(a)\n",
    "a=eval('2 * 3 + 1')\n",
    "print(a)"
   ]
  },
  {
   "cell_type": "code",
   "execution_count": 26,
   "metadata": {},
   "outputs": [
    {
     "ename": "NameError",
     "evalue": "name 'hello' is not defined",
     "output_type": "error",
     "traceback": [
      "\u001b[1;31m---------------------------------------------------------------------------\u001b[0m",
      "\u001b[1;31mNameError\u001b[0m                                 Traceback (most recent call last)",
      "\u001b[1;32m<ipython-input-26-a320004f7189>\u001b[0m in \u001b[0;36m<module>\u001b[1;34m\u001b[0m\n\u001b[0;32m      1\u001b[0m \u001b[1;31m#3.17(b)\u001b[0m\u001b[1;33m\u001b[0m\u001b[1;33m\u001b[0m\u001b[1;33m\u001b[0m\u001b[0m\n\u001b[1;32m----> 2\u001b[1;33m \u001b[0mb\u001b[0m\u001b[1;33m=\u001b[0m\u001b[0meval\u001b[0m\u001b[1;33m(\u001b[0m\u001b[1;34m\"hello\"\u001b[0m\u001b[1;33m)\u001b[0m\u001b[1;33m\u001b[0m\u001b[1;33m\u001b[0m\u001b[0m\n\u001b[0m\u001b[0;32m      3\u001b[0m \u001b[0mprint\u001b[0m\u001b[1;33m(\u001b[0m\u001b[0mb\u001b[0m\u001b[1;33m)\u001b[0m\u001b[1;33m\u001b[0m\u001b[1;33m\u001b[0m\u001b[0m\n",
      "\u001b[1;32m<string>\u001b[0m in \u001b[0;36m<module>\u001b[1;34m\u001b[0m\n",
      "\u001b[1;31mNameError\u001b[0m: name 'hello' is not defined"
     ]
    }
   ],
   "source": [
    "#3.17(b)\n",
    "b=eval('hello')\n",
    "print(b)\n",
    "#This contains error  because eval function evaluates \n",
    "#the string expression and returns the integer as result."
   ]
  },
  {
   "cell_type": "code",
   "execution_count": 32,
   "metadata": {},
   "outputs": [
    {
     "name": "stdout",
     "output_type": "stream",
     "text": [
      "Hello world!\n"
     ]
    }
   ],
   "source": [
    "#3.17(c)\n",
    "c=eval(\"'Hello'+' '+'world!'\")\n",
    "print(c)"
   ]
  },
  {
   "cell_type": "code",
   "execution_count": 33,
   "metadata": {},
   "outputs": [
    {
     "name": "stdout",
     "output_type": "stream",
     "text": [
      "2\n"
     ]
    }
   ],
   "source": [
    "# 3.17(d)\n",
    "d=eval(\"'ASCII'.count('I')\")\n",
    "print(d)"
   ]
  },
  {
   "cell_type": "code",
   "execution_count": 1,
   "metadata": {},
   "outputs": [
    {
     "ename": "SyntaxError",
     "evalue": "invalid syntax (<string>, line 1)",
     "output_type": "error",
     "traceback": [
      "Traceback \u001b[1;36m(most recent call last)\u001b[0m:\n",
      "  File \u001b[0;32m\"C:\\Users\\Wassay\\Anaconda3\\lib\\site-packages\\IPython\\core\\interactiveshell.py\"\u001b[0m, line \u001b[0;32m3325\u001b[0m, in \u001b[0;35mrun_code\u001b[0m\n    exec(code_obj, self.user_global_ns, self.user_ns)\n",
      "\u001b[1;36m  File \u001b[1;32m\"<ipython-input-1-984b17adcea2>\"\u001b[1;36m, line \u001b[1;32m2\u001b[1;36m, in \u001b[1;35m<module>\u001b[1;36m\u001b[0m\n\u001b[1;33m    e=eval('x = 5')\u001b[0m\n",
      "\u001b[1;36m  File \u001b[1;32m\"<string>\"\u001b[1;36m, line \u001b[1;32m1\u001b[0m\n\u001b[1;33m    x = 5\u001b[0m\n\u001b[1;37m      ^\u001b[0m\n\u001b[1;31mSyntaxError\u001b[0m\u001b[1;31m:\u001b[0m invalid syntax\n"
     ]
    }
   ],
   "source": [
    "#3.17(e)\n",
    "e=eval('x = 5')\n",
    "print(e)\n",
    "#This contains error because eval funtion is not used to assign variables."
   ]
  },
  {
   "cell_type": "markdown",
   "metadata": {},
   "source": [
    "# Q.3.18"
   ]
  },
  {
   "cell_type": "code",
   "execution_count": 38,
   "metadata": {},
   "outputs": [
    {
     "name": "stdout",
     "output_type": "stream",
     "text": [
      "OK\n"
     ]
    }
   ],
   "source": [
    "a, b, c = 3, 4, 5\n",
    "#3.18(a)\n",
    "if a<b:\n",
    "    print(\"OK\")\n",
    "elif c<b:\n",
    "    print(\"OK\")\n",
    "elif a+b==c:\n",
    "    print(\"Ok\")\n",
    "elif (a**2)+(b**2)==(c**2):\n",
    "    print(\"OK\")"
   ]
  },
  {
   "cell_type": "markdown",
   "metadata": {},
   "source": [
    "# Q.3.19"
   ]
  },
  {
   "cell_type": "code",
   "execution_count": 43,
   "metadata": {},
   "outputs": [
    {
     "name": "stdout",
     "output_type": "stream",
     "text": [
      "OK\n",
      "Not OK\n",
      "Not OK\n",
      "OK\n"
     ]
    }
   ],
   "source": [
    "a, b, c = 3, 4, 5\n",
    "#3.18(a)\n",
    "if a<b:\n",
    "    print(\"OK\")\n",
    "else:\n",
    "    print(\"Not OK\")\n",
    "if c<b:\n",
    "    print(\"OK\")\n",
    "else:\n",
    "    print(\"Not OK\")\n",
    "if a+b==c:\n",
    "    print(\"Ok\")\n",
    "else:\n",
    "    print(\"Not OK\")\n",
    "if (a**2)+(b**2)==(c**2):\n",
    "    print(\"OK\")\n",
    "else:\n",
    "    print(\"Not OK\")"
   ]
  },
  {
   "cell_type": "markdown",
   "metadata": {},
   "source": [
    "# Q.3.20"
   ]
  },
  {
   "cell_type": "code",
   "execution_count": 51,
   "metadata": {},
   "outputs": [
    {
     "name": "stdout",
     "output_type": "stream",
     "text": [
      "J a n\n",
      "F e b\n",
      "M a r\n"
     ]
    }
   ],
   "source": [
    "months=['January','February','March']\n",
    "for a in months:\n",
    "    print(a[0],a[1],a[2])"
   ]
  },
  {
   "cell_type": "markdown",
   "metadata": {},
   "source": [
    "# Q.3.21"
   ]
  },
  {
   "cell_type": "code",
   "execution_count": 52,
   "metadata": {},
   "outputs": [
    {
     "name": "stdout",
     "output_type": "stream",
     "text": [
      "2\n",
      "4\n",
      "6\n",
      "8\n"
     ]
    }
   ],
   "source": [
    "lst=[2,3,4,5,6,7,8,9]\n",
    "for x in lst:\n",
    "    if x%2==0:\n",
    "        print(x)"
   ]
  },
  {
   "cell_type": "markdown",
   "metadata": {},
   "source": [
    "# Q.3.22"
   ]
  },
  {
   "cell_type": "code",
   "execution_count": 53,
   "metadata": {},
   "outputs": [
    {
     "name": "stdout",
     "output_type": "stream",
     "text": [
      "4\n",
      "8\n"
     ]
    }
   ],
   "source": [
    "lst=[2,3,4,5,6,7,8,9]\n",
    "for y in lst:\n",
    "    if (y**2)%8==0:\n",
    "        print(y)"
   ]
  },
  {
   "cell_type": "markdown",
   "metadata": {},
   "source": [
    "# Q.3.23"
   ]
  },
  {
   "cell_type": "code",
   "execution_count": 55,
   "metadata": {},
   "outputs": [
    {
     "name": "stdout",
     "output_type": "stream",
     "text": [
      "0\n",
      "1\n"
     ]
    }
   ],
   "source": [
    "for a in range(0,2):\n",
    "    print(a)"
   ]
  },
  {
   "cell_type": "code",
   "execution_count": 56,
   "metadata": {},
   "outputs": [
    {
     "name": "stdout",
     "output_type": "stream",
     "text": [
      "0\n"
     ]
    }
   ],
   "source": [
    "for b in range(0,1):\n",
    "    print(b)"
   ]
  },
  {
   "cell_type": "code",
   "execution_count": 58,
   "metadata": {},
   "outputs": [
    {
     "name": "stdout",
     "output_type": "stream",
     "text": [
      "3\n",
      "4\n",
      "5\n",
      "6\n"
     ]
    }
   ],
   "source": [
    "for c in range(3,7):\n",
    "    print(c)"
   ]
  },
  {
   "cell_type": "code",
   "execution_count": 59,
   "metadata": {},
   "outputs": [
    {
     "name": "stdout",
     "output_type": "stream",
     "text": [
      "1\n"
     ]
    }
   ],
   "source": [
    "for d in range(1,2):\n",
    "    print(d)"
   ]
  },
  {
   "cell_type": "code",
   "execution_count": 63,
   "metadata": {},
   "outputs": [
    {
     "name": "stdout",
     "output_type": "stream",
     "text": [
      "0\n",
      "3\n"
     ]
    }
   ],
   "source": [
    "for e in range(0,4,3):\n",
    "    print(e)"
   ]
  },
  {
   "cell_type": "code",
   "execution_count": 66,
   "metadata": {},
   "outputs": [
    {
     "name": "stdout",
     "output_type": "stream",
     "text": [
      "5\n",
      "9\n",
      "13\n",
      "17\n",
      "21\n"
     ]
    }
   ],
   "source": [
    "for  f in range(5,22,4):\n",
    "    print(f)"
   ]
  },
  {
   "cell_type": "markdown",
   "metadata": {},
   "source": [
    "# Problems (Book):"
   ]
  },
  {
   "cell_type": "markdown",
   "metadata": {},
   "source": [
    "# Q.3.24"
   ]
  },
  {
   "cell_type": "code",
   "execution_count": 26,
   "metadata": {},
   "outputs": [
    {
     "name": "stdout",
     "output_type": "stream",
     "text": [
      "cia\n",
      "mi6\n",
      "isi\n"
     ]
    }
   ],
   "source": [
    "words=['cia','mi6','secret','isi']\n",
    "for i in words:\n",
    "    if i!='secret':\n",
    "        print(i)"
   ]
  },
  {
   "cell_type": "markdown",
   "metadata": {},
   "source": [
    "# Q.3.25"
   ]
  },
  {
   "cell_type": "code",
   "execution_count": 28,
   "metadata": {},
   "outputs": [
    {
     "name": "stdout",
     "output_type": "stream",
     "text": [
      "Ahmed\n",
      "Murtaza\n"
     ]
    }
   ],
   "source": [
    "lst = ['Wassay','Sardar','Ahmed','Murtaza']\n",
    "for i in lst:\n",
    "    if i[0] in \"AaMm\":\n",
    "        print(i)"
   ]
  },
  {
   "cell_type": "markdown",
   "metadata": {},
   "source": [
    "# Q.3.26"
   ]
  },
  {
   "cell_type": "code",
   "execution_count": 2,
   "metadata": {},
   "outputs": [
    {
     "name": "stdout",
     "output_type": "stream",
     "text": [
      "Enter a number: 3\n",
      "Enter a number: 5\n",
      "Enter a number: 7\n",
      "Enter a number: 9\n",
      "The first element is: 3\n",
      "The last element is: 9\n"
     ]
    }
   ],
   "source": [
    "a=[]\n",
    "for x in range(0,4):\n",
    "    num=input(\"Enter a number: \")\n",
    "    a.append(num)\n",
    "print('The first element is:',a[0])\n",
    "print('The last element is:',a[3])"
   ]
  },
  {
   "cell_type": "markdown",
   "metadata": {},
   "source": [
    "# Q.3.27"
   ]
  },
  {
   "cell_type": "code",
   "execution_count": 32,
   "metadata": {},
   "outputs": [
    {
     "name": "stdout",
     "output_type": "stream",
     "text": [
      "Enter a number: 5\n",
      "0\n",
      "5\n",
      "10\n",
      "15\n"
     ]
    }
   ],
   "source": [
    "n=eval(input('Enter a number: '))\n",
    "for j in range(0,4):\n",
    "        print(n*j)"
   ]
  },
  {
   "cell_type": "markdown",
   "metadata": {},
   "source": [
    "# Q.3.28"
   ]
  },
  {
   "cell_type": "code",
   "execution_count": 33,
   "metadata": {},
   "outputs": [
    {
     "name": "stdout",
     "output_type": "stream",
     "text": [
      "Enter a number: 3\n",
      "0\n",
      "1\n",
      "4\n"
     ]
    }
   ],
   "source": [
    "n=eval(input('Enter a number: '))\n",
    "for i in range(0,n):\n",
    "    print(i**2)"
   ]
  },
  {
   "cell_type": "markdown",
   "metadata": {},
   "source": [
    "# Q.3.29"
   ]
  },
  {
   "cell_type": "code",
   "execution_count": 38,
   "metadata": {},
   "outputs": [
    {
     "name": "stdout",
     "output_type": "stream",
     "text": [
      "Enter a positive integer: 49\n",
      "1\n",
      "7\n",
      "49\n"
     ]
    }
   ],
   "source": [
    "n=eval(input('Enter a positive integer: '))\n",
    "for i in range(1,n+1):\n",
    "    if (n%i)==0:\n",
    "        print(i)"
   ]
  },
  {
   "cell_type": "markdown",
   "metadata": {},
   "source": [
    "# Q.3.30"
   ]
  },
  {
   "cell_type": "code",
   "execution_count": 39,
   "metadata": {},
   "outputs": [
    {
     "name": "stdout",
     "output_type": "stream",
     "text": [
      "Enter a number: 4.5\n",
      "Enter a number: 3\n",
      "Enter a number: 3\n",
      "Enter a number: 3.5\n",
      "Equal\n"
     ]
    }
   ],
   "source": [
    "n1=eval(input('Enter a number: '))\n",
    "n2=eval(input('Enter a number: '))\n",
    "n3=eval(input('Enter a number: '))\n",
    "n4=eval(input('Enter a number: '))\n",
    "av=(n1+n2+n3)/3\n",
    "if av==n4:\n",
    "    print('Equal')"
   ]
  },
  {
   "cell_type": "markdown",
   "metadata": {},
   "source": [
    "# Q.3.31"
   ]
  },
  {
   "cell_type": "code",
   "execution_count": 40,
   "metadata": {},
   "outputs": [
    {
     "name": "stdout",
     "output_type": "stream",
     "text": [
      "Enter the value of X: 2.5\n",
      "Enter the value of Y: 4\n",
      "Enter the radius of dartboard: 8\n",
      "It is in!\n"
     ]
    }
   ],
   "source": [
    "x=eval(input('Enter the value of X: '))\n",
    "y=eval(input('Enter the value of Y: '))\n",
    "r=eval(input('Enter the radius of dartboard: '))\n",
    "if (x**2)+(y**2) < (r**2):\n",
    "    print('It is in!')"
   ]
  },
  {
   "cell_type": "markdown",
   "metadata": {},
   "source": [
    "# Q.3.32"
   ]
  },
  {
   "cell_type": "code",
   "execution_count": 14,
   "metadata": {},
   "outputs": [
    {
     "name": "stdout",
     "output_type": "stream",
     "text": [
      "Enter four integers: 4567\n",
      "4\n",
      "5\n",
      "6\n",
      "7\n"
     ]
    }
   ],
   "source": [
    "n=int(input('Enter four integers: '))\n",
    "x=n%10\n",
    "y=x-3\n",
    "for num in range(y,x+1):\n",
    "    print(num)"
   ]
  },
  {
   "cell_type": "markdown",
   "metadata": {},
   "source": [
    "# Q.3.33"
   ]
  },
  {
   "cell_type": "code",
   "execution_count": 46,
   "metadata": {},
   "outputs": [
    {
     "name": "stdout",
     "output_type": "stream",
     "text": [
      "Enter a word: python\n"
     ]
    },
    {
     "data": {
      "text/plain": [
       "'nohtyp'"
      ]
     },
     "execution_count": 46,
     "metadata": {},
     "output_type": "execute_result"
    }
   ],
   "source": [
    "def rev_string(x):\n",
    "    s=''\n",
    "    for char in x:\n",
    "        s=char+s\n",
    "    return s\n",
    "\n",
    "word=input('Enter a word: ')\n",
    "rev_string(word)"
   ]
  },
  {
   "cell_type": "markdown",
   "metadata": {},
   "source": [
    "# Q.3.34"
   ]
  },
  {
   "cell_type": "code",
   "execution_count": 58,
   "metadata": {},
   "outputs": [
    {
     "name": "stdout",
     "output_type": "stream",
     "text": [
      "Enter wage per hour: 10\n",
      "Enter working hours per week: 45\n",
      "Weekly pay(Included Overtime): 675.0\n"
     ]
    }
   ],
   "source": [
    "def pay(wage_h,hours):\n",
    "    wage=wage_h*hours\n",
    "    if hours > 40:\n",
    "        extra_pay=(wage_h*1.5)*hours\n",
    "        print('Weekly pay(Included Overtime):',extra_pay)\n",
    "    else:\n",
    "        print('Weekly pay:',wage)\n",
    "        \n",
    "w=eval(input('Enter wage per hour: '))\n",
    "h=eval(input('Enter working hours per week: '))\n",
    "pay(w,h)"
   ]
  },
  {
   "cell_type": "markdown",
   "metadata": {},
   "source": [
    "# Q.3.35"
   ]
  },
  {
   "cell_type": "code",
   "execution_count": 59,
   "metadata": {},
   "outputs": [
    {
     "data": {
      "text/plain": [
       "0.5"
      ]
     },
     "execution_count": 59,
     "metadata": {},
     "output_type": "execute_result"
    }
   ],
   "source": [
    "def prob(n):\n",
    "    return 2**(-n)\n",
    "\n",
    "prob(1)"
   ]
  },
  {
   "cell_type": "markdown",
   "metadata": {},
   "source": [
    "# Q.3.36"
   ]
  },
  {
   "cell_type": "code",
   "execution_count": 29,
   "metadata": {},
   "outputs": [
    {
     "data": {
      "text/plain": [
       "4321"
      ]
     },
     "execution_count": 29,
     "metadata": {},
     "output_type": "execute_result"
    }
   ],
   "source": [
    "def reverse_int(n):\n",
    "    x=0\n",
    "    while(n!=0):\n",
    "        x*=10\n",
    "        x+=n%10\n",
    "        n=n//10\n",
    "    return x\n",
    "\n",
    "\n",
    "reverse_int(1234)"
   ]
  },
  {
   "cell_type": "markdown",
   "metadata": {},
   "source": [
    "# Q.3.37"
   ]
  },
  {
   "cell_type": "code",
   "execution_count": 8,
   "metadata": {},
   "outputs": [
    {
     "name": "stdout",
     "output_type": "stream",
     "text": [
      "The slope is infinity and the distance is 1.0\n"
     ]
    }
   ],
   "source": [
    "import math\n",
    "def points(x1,y1,x2,y2):\n",
    "    d=math.sqrt(((x2-x1)**2)+((y2-y1)**2))\n",
    "    if x1==0 and x2==0:\n",
    "        print('The slope is infinity and the distance is',abs(d))\n",
    "    else:\n",
    "        m=(y1-y2)/(x1-x2)\n",
    "        print('The slope is',m,'and the distance is',d)\n",
    "        \n",
    "points(0,0,0,1)"
   ]
  },
  {
   "cell_type": "markdown",
   "metadata": {},
   "source": [
    "# Q.3.38"
   ]
  },
  {
   "cell_type": "code",
   "execution_count": 10,
   "metadata": {},
   "outputs": [
    {
     "name": "stdout",
     "output_type": "stream",
     "text": [
      "Enter the name of day: Tuesday\n"
     ]
    },
    {
     "data": {
      "text/plain": [
       "'Tu'"
      ]
     },
     "execution_count": 10,
     "metadata": {},
     "output_type": "execute_result"
    }
   ],
   "source": [
    "def abbreviation(x):\n",
    "    return x[0:2]\n",
    "\n",
    "day=input('Enter the name of day: ')\n",
    "abbreviation(day)"
   ]
  },
  {
   "cell_type": "markdown",
   "metadata": {},
   "source": [
    "# Q.3.39"
   ]
  },
  {
   "cell_type": "code",
   "execution_count": 27,
   "metadata": {},
   "outputs": [
    {
     "data": {
      "text/plain": [
       "True"
      ]
     },
     "execution_count": 27,
     "metadata": {},
     "output_type": "execute_result"
    }
   ],
   "source": [
    "import math\n",
    "def collision(x1,y1,r1,x2,y2,r2):\n",
    "    if math.sqrt((x1-x2)**2+(y1-y2)**2) > (r1+r2):\n",
    "        return False\n",
    "    else:\n",
    "        return True\n",
    "\n",
    "collision(0,0,3,0,5,3)"
   ]
  },
  {
   "cell_type": "markdown",
   "metadata": {},
   "source": [
    "# Q.3.40"
   ]
  },
  {
   "cell_type": "code",
   "execution_count": 15,
   "metadata": {},
   "outputs": [
    {
     "name": "stdout",
     "output_type": "stream",
     "text": [
      "Evelyn\n",
      "Gavin\n"
     ]
    }
   ],
   "source": [
    "def partition(x):\n",
    "    for i in x:\n",
    "        if i[0] in 'ABCDEFGHIJKLM':\n",
    "            print(i)\n",
    "            \n",
    "partition(['Wassay','Evelyn','Sammy','Owen','Gavin'])"
   ]
  },
  {
   "cell_type": "markdown",
   "metadata": {},
   "source": [
    "# Q.3.41"
   ]
  },
  {
   "cell_type": "code",
   "execution_count": 17,
   "metadata": {},
   "outputs": [
    {
     "name": "stdout",
     "output_type": "stream",
     "text": [
      "Sardar W.\n"
     ]
    }
   ],
   "source": [
    "def lastF(f,l):\n",
    "        print(l,f[0]+'.')\n",
    "        \n",
    "lastF('Wassay','Sardar')"
   ]
  },
  {
   "cell_type": "markdown",
   "metadata": {},
   "source": [
    "# Q.3.42"
   ]
  },
  {
   "cell_type": "code",
   "execution_count": 22,
   "metadata": {},
   "outputs": [
    {
     "name": "stdout",
     "output_type": "stream",
     "text": [
      "90.0\n",
      "60.0\n",
      "87.0\n",
      "11.0\n"
     ]
    }
   ],
   "source": [
    "def avg(x):\n",
    "    for i in x:\n",
    "        average=sum(i)/len(i)\n",
    "        print(average)\n",
    "        \n",
    "lists=[[95,92,86,87],[66,54],[89,72,100],[33,0,0]]\n",
    "avg(lists)"
   ]
  },
  {
   "cell_type": "markdown",
   "metadata": {},
   "source": [
    "# Q.3.43"
   ]
  },
  {
   "cell_type": "code",
   "execution_count": 25,
   "metadata": {},
   "outputs": [
    {
     "data": {
      "text/plain": [
       "True"
      ]
     },
     "execution_count": 25,
     "metadata": {},
     "output_type": "execute_result"
    }
   ],
   "source": [
    "import math\n",
    "def hit(x1,y1,r,x2,y2):\n",
    "    if math.sqrt(((x1-x2)**2)+((y1-y2)**2)) > r:\n",
    "        return 'false'\n",
    "    else:\n",
    "        return True\n",
    "    \n",
    "hit(0,0,3,3,0)    "
   ]
  },
  {
   "cell_type": "markdown",
   "metadata": {},
   "source": [
    "# Q.3.44"
   ]
  },
  {
   "cell_type": "code",
   "execution_count": 26,
   "metadata": {},
   "outputs": [
    {
     "data": {
      "text/plain": [
       "1.0208700000000002"
      ]
     },
     "execution_count": 26,
     "metadata": {},
     "output_type": "execute_result"
    }
   ],
   "source": [
    "def distance(t):\n",
    "    s=340.29 #The approximate speed of sound.\n",
    "    d=s*t\n",
    "    km=d/1000\n",
    "    return km\n",
    "\n",
    "distance(3)"
   ]
  },
  {
   "cell_type": "markdown",
   "metadata": {},
   "source": [
    "# The End :-D"
   ]
  }
 ],
 "metadata": {
  "kernelspec": {
   "display_name": "Python 3",
   "language": "python",
   "name": "python3"
  },
  "language_info": {
   "codemirror_mode": {
    "name": "ipython",
    "version": 3
   },
   "file_extension": ".py",
   "mimetype": "text/x-python",
   "name": "python",
   "nbconvert_exporter": "python",
   "pygments_lexer": "ipython3",
   "version": "3.7.3"
  }
 },
 "nbformat": 4,
 "nbformat_minor": 2
}
